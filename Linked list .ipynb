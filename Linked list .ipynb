{
 "cells": [
  {
   "cell_type": "code",
   "execution_count": 5,
   "metadata": {},
   "outputs": [
    {
     "name": "stdout",
     "output_type": "stream",
     "text": [
      " 10 pushed to stack\n",
      " 20 pushed to stack\n",
      " 30 pushed to stack\n",
      " 30 popped from stack\n",
      "Top element is  20 \n"
     ]
    }
   ],
   "source": [
    "# Python program for linked list implementation of stack\n",
    " \n",
    "# Class to represent a node\n",
    " \n",
    " \n",
    "class StackNode:\n",
    " \n",
    "    # Constructor to initialize a node\n",
    "    def __init__(self, data):\n",
    "        self.data = data\n",
    "        self.next = None\n",
    " \n",
    " \n",
    "class Stack:\n",
    " \n",
    "    # Constructor to initialize the root of linked list\n",
    "    def __init__(self):\n",
    "        self.root = None\n",
    " \n",
    "    def isEmpty(self):\n",
    "        return True if self.root is None else False\n",
    " \n",
    "    def push(self, data):\n",
    "        newNode = StackNode(data)\n",
    "        newNode.next = self.root\n",
    "        self.root = newNode\n",
    "        print (\"% d pushed to stack\" % (data))\n",
    " \n",
    "    def pop(self):\n",
    "        if (self.isEmpty()):\n",
    "            return float(\"-inf\")\n",
    "        temp = self.root\n",
    "        self.root = self.root.next\n",
    "        popped = temp.data\n",
    "        return popped\n",
    " \n",
    "    def peek(self):\n",
    "        if self.isEmpty():\n",
    "            return float(\"-inf\")\n",
    "        return self.root.data\n",
    " \n",
    " \n",
    "# Driver code\n",
    "stack = Stack()\n",
    "stack.push(10)\n",
    "stack.push(20)\n",
    "stack.push(30)\n",
    " \n",
    "print (\"% d popped from stack\" % (stack.pop()))\n",
    "print (\"Top element is % d \" % (stack.peek()))"
   ]
  },
  {
   "cell_type": "code",
   "execution_count": null,
   "metadata": {},
   "outputs": [],
   "source": []
  },
  {
   "cell_type": "code",
   "execution_count": null,
   "metadata": {},
   "outputs": [],
   "source": []
  }
 ],
 "metadata": {
  "kernelspec": {
   "display_name": "Python 3",
   "language": "python",
   "name": "python3"
  },
  "language_info": {
   "codemirror_mode": {
    "name": "ipython",
    "version": 3
   },
   "file_extension": ".py",
   "mimetype": "text/x-python",
   "name": "python",
   "nbconvert_exporter": "python",
   "pygments_lexer": "ipython3",
   "version": "3.7.3"
  }
 },
 "nbformat": 4,
 "nbformat_minor": 2
}
