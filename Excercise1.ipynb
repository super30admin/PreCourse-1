{
  "nbformat": 4,
  "nbformat_minor": 0,
  "metadata": {
    "colab": {
      "name": "Excercise1.ipynb",
      "provenance": []
    },
    "kernelspec": {
      "name": "python3",
      "display_name": "Python 3"
    },
    "language_info": {
      "name": "python"
    }
  },
  "cells": [
    {
      "cell_type": "markdown",
      "metadata": {
        "id": "NDQ8WVGpYa6J"
      },
      "source": [
        "## Stack Using Array"
      ]
    },
    {
      "cell_type": "code",
      "metadata": {
        "id": "BZIzcGhcUnaa"
      },
      "source": [
        "class myStack:\n",
        "  #Please read sample.java file before starting.\n",
        "  #Kindly include Time and Space complexity at top of each file\n",
        "     def __init__(self):\n",
        "\n",
        "         self.stack = []\n",
        "         \n",
        "     def isEmpty(self):\n",
        "\n",
        "         return self.stack == []\n",
        "         #TC : O(1)\n",
        "         #SC : O(1)\n",
        "         \n",
        "     def push(self, item):\n",
        "\n",
        "         self.stack.append(item)\n",
        "\n",
        "         #TC : O(1)\n",
        "         #SC : O(1)\n",
        "\n",
        "     def pop(self):\n",
        "\n",
        "         if(not self.isEmpty()):\n",
        "             self.stack.pop()\n",
        "             #del( self.stack[-1]) \n",
        "            #TC : O(1)\n",
        "            #SC : O(1)             \n",
        "        \n",
        "        \n",
        "     def peek(self):\n",
        "\n",
        "         return self.stack[-1]\n",
        "         #TC : O(1)\n",
        "         #SC : O(1)\n",
        "\n",
        "     def size(self):\n",
        "\n",
        "         return len(self.stack)\n",
        "         #TC : O(N)\n",
        "         #SC : O(N)\n",
        "\n",
        "     def show(self):\n",
        "         print(self.stack)\n",
        "\n",
        "         #TC : O(N)\n",
        "         #SC : O(1)\n"
      ],
      "execution_count": null,
      "outputs": []
    },
    {
      "cell_type": "code",
      "metadata": {
        "colab": {
          "base_uri": "https://localhost:8080/"
        },
        "id": "QV0U3zNMXZUw",
        "outputId": "7769ee91-336c-44ad-fcf8-e9a5b433a05f"
      },
      "source": [
        "\n",
        "s = myStack()\n",
        "s.push('1')\n",
        "print(\"Len : \", s.size())\n",
        "s.push('2')\n",
        "print(\"Len : \", s.size())\n",
        "s.pop()\n",
        "print(s.size())\n",
        "s.show()\n"
      ],
      "execution_count": null,
      "outputs": [
        {
          "output_type": "stream",
          "text": [
            "Len :  1\n",
            "Len :  2\n",
            "1\n",
            "['1']\n"
          ],
          "name": "stdout"
        }
      ]
    }
  ]
}