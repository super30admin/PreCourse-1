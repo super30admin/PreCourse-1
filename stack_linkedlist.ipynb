{
 "cells": [
  {
   "cell_type": "code",
   "execution_count": null,
   "metadata": {},
   "outputs": [
    {
     "name": "stdout",
     "output_type": "stream",
     "text": [
      "push <value>\n",
      "pop\n",
      "quit\n",
      "what would you like to do?push 1\n",
      "push\n",
      "push <value>\n",
      "pop\n",
      "quit\n",
      "what would you like to do?push 2\n",
      "push\n",
      "push <value>\n",
      "pop\n",
      "quit\n",
      "what would you like to do?pop\n",
      "pop\n",
      "Popped value: 2\n",
      "push <value>\n",
      "pop\n",
      "quit\n"
     ]
    }
   ],
   "source": [
    "class Node:\n",
    "    def __init__(self,data):\n",
    "        self.data=data\n",
    "        self.next=None\n",
    "class Stack:\n",
    "    def __init__(self):\n",
    "        self.head=None\n",
    "        \n",
    "    def push(self,data):\n",
    "        if self.head==None:\n",
    "            self.head=Node(data)\n",
    "        else:\n",
    "            newNode=Node(data)\n",
    "            newNode.next=self.head\n",
    "            self.head=newNode\n",
    "            \n",
    "    def pop(self):\n",
    "        if self.head==None:\n",
    "            print('no more elements to pop')\n",
    "            return None\n",
    "        else:\n",
    "            node=self.head\n",
    "            self.head=self.head.next\n",
    "            return node.data\n",
    "if __name__==\"__main__\":\n",
    "    a_stack=Stack()\n",
    "    while True:\n",
    "        print('push <value>')\n",
    "        print('pop')\n",
    "        print('quit')\n",
    "        do=input('what would you like to do?').split()\n",
    "        operation=do[0].strip().lower()\n",
    "        print(operation)\n",
    "        if operation=='push':\n",
    "            a_stack.push(int(do[1]))\n",
    "        elif operation=='pop':\n",
    "            popped=a_stack.pop()\n",
    "            if popped is None:\n",
    "                print('stack is empty.')\n",
    "            else:\n",
    "                print('Popped value:',int(popped))\n",
    "        elif operation =='quit':\n",
    "            break"
   ]
  },
  {
   "cell_type": "code",
   "execution_count": null,
   "metadata": {},
   "outputs": [],
   "source": []
  },
  {
   "cell_type": "code",
   "execution_count": null,
   "metadata": {},
   "outputs": [],
   "source": []
  }
 ],
 "metadata": {
  "kernelspec": {
   "display_name": "Python 3",
   "language": "python",
   "name": "python3"
  },
  "language_info": {
   "codemirror_mode": {
    "name": "ipython",
    "version": 3
   },
   "file_extension": ".py",
   "mimetype": "text/x-python",
   "name": "python",
   "nbconvert_exporter": "python",
   "pygments_lexer": "ipython3",
   "version": "3.7.3"
  }
 },
 "nbformat": 4,
 "nbformat_minor": 2
}
