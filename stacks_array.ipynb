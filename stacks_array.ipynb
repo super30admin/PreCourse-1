{
 "cells": [
  {
   "cell_type": "code",
   "execution_count": 13,
   "metadata": {},
   "outputs": [
    {
     "name": "stdout",
     "output_type": "stream",
     "text": [
      "stack contents are [1, 2]\n",
      "length is 2\n",
      "2\n",
      "[1]\n"
     ]
    }
   ],
   "source": [
    "class myStack:\n",
    "    def __init__(self):\n",
    "        self.data=[]\n",
    "    def size(self):\n",
    "        return len(self.data)\n",
    "    def isEmpty(self):\n",
    "        return len(self.data)==0\n",
    "    def pop(self):\n",
    "        if self.isEmpty():\n",
    "            print(\"stack is empty\")\n",
    "        else:\n",
    "            return self.data.pop()\n",
    "    def push(self,item):\n",
    "        self.data.append(item)\n",
    "    def peek(self):\n",
    "        if self.isEmpty():\n",
    "            print(\"stack is empty\")\n",
    "        else:\n",
    "            return self.data[-1]\n",
    "    def show(self):\n",
    "        if self.isEmpty():\n",
    "            print(\"stack is empty\")\n",
    "        else:\n",
    "            return self.data\n",
    "if __name__==\"__main__\":\n",
    "    \n",
    "    s=myStack()\n",
    "    s.push(1)\n",
    "    s.push(2)\n",
    "    print(\"stack contents are\",s.data)\n",
    "    print(\"length is\",len(s.data))\n",
    "    print(s.pop())\n",
    "    print(s.show())\n",
    "\n",
    "        \n",
    "        \n",
    "        \n",
    "        \n",
    "        "
   ]
  },
  {
   "cell_type": "code",
   "execution_count": null,
   "metadata": {},
   "outputs": [],
   "source": []
  }
 ],
 "metadata": {
  "kernelspec": {
   "display_name": "Python 3",
   "language": "python",
   "name": "python3"
  },
  "language_info": {
   "codemirror_mode": {
    "name": "ipython",
    "version": 3
   },
   "file_extension": ".py",
   "mimetype": "text/x-python",
   "name": "python",
   "nbconvert_exporter": "python",
   "pygments_lexer": "ipython3",
   "version": "3.7.3"
  }
 },
 "nbformat": 4,
 "nbformat_minor": 2
}
