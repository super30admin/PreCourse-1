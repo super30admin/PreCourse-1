{
  "nbformat": 4,
  "nbformat_minor": 0,
  "metadata": {
    "colab": {
      "name": "Excercise2.ipynb",
      "provenance": []
    },
    "kernelspec": {
      "name": "python3",
      "display_name": "Python 3"
    },
    "language_info": {
      "name": "python"
    }
  },
  "cells": [
    {
      "cell_type": "markdown",
      "metadata": {
        "id": "az-lQfm-Ygj3"
      },
      "source": [
        "## Stack using LinkedList"
      ]
    },
    {
      "cell_type": "code",
      "metadata": {
        "id": "Ie_Qnnl3YgIE"
      },
      "source": [
        "class Node:\n",
        "\n",
        "    def __init__(self,value,ref):\n",
        "        self.data = value\n",
        "        self.next = ref\n",
        "\n",
        "class Stack:\n",
        "\n",
        "    def __init__(self):\n",
        "\n",
        "        self.head = None\n",
        "        self.size = 0\n",
        "\n",
        "\n",
        "    def push(self,item):\n",
        "        \n",
        "        self.head = Node(item, self.head)\n",
        "     \n",
        "        self.size += 1\n",
        "         #TC : O(1)\n",
        "         #SC : O(1)\n",
        "\n",
        "    def pop(self):\n",
        "\n",
        "        if (self.head is not None):\n",
        "            node = self.head.data\n",
        "            self.head = self.head.next\n",
        "            self.size -= 1\n",
        "            return node\n",
        "\n",
        "         #TC : O(1)\n",
        "         #SC : O(1)\n",
        "\n",
        "\n",
        "    \n",
        "\n",
        "    \n",
        "        "
      ],
      "execution_count": null,
      "outputs": []
    },
    {
      "cell_type": "code",
      "metadata": {
        "colab": {
          "base_uri": "https://localhost:8080/"
        },
        "id": "Qepz_z8HM0CR",
        "outputId": "b407cdcb-051c-41ef-b42c-41f675a16441"
      },
      "source": [
        "a_stack = Stack()\n",
        "while True:\n",
        "    #Give input as string if getting an EOF error. Give input like \"push 10\" or \"pop\"\n",
        "    print('push 10')\n",
        "    print('pop')\n",
        "    print('quit')\n",
        "    do = input('What would you like to do? ').split()\n",
        "    #Give input as string if getting an EOF error. Give input like \"push 10\" or \"pop\"\n",
        "    operation = do[0].strip().lower()\n",
        "    if operation == 'push':\n",
        "        a_stack.push(int(do[1]))\n",
        "    elif operation == 'pop':\n",
        "        popped = a_stack.pop()\n",
        "        if popped is None:\n",
        "            print('Stack is empty.')\n",
        "        else:\n",
        "            print('Popped value: ', int(popped))\n",
        "    elif operation == 'quit':\n",
        "        break"
      ],
      "execution_count": null,
      "outputs": [
        {
          "output_type": "stream",
          "text": [
            "push 10\n",
            "pop\n",
            "quit\n",
            "What would you like to do? push 10\n",
            "push 10\n",
            "pop\n",
            "quit\n",
            "What would you like to do? pop\n",
            "Popped value:  10\n",
            "push 10\n",
            "pop\n",
            "quit\n",
            "What would you like to do? quit\n"
          ],
          "name": "stdout"
        }
      ]
    }
  ]
}