{
 "cells": [
  {
   "cell_type": "code",
   "execution_count": 26,
   "metadata": {},
   "outputs": [
    {
     "name": "stdout",
     "output_type": "stream",
     "text": [
      "inorder traversal before insertion :10\n",
      "<class '__main__.Binarytree'>\n",
      "711101598\n",
      "inorder traversal after insertion:71112101598"
     ]
    }
   ],
   "source": [
    "class newNode:\n",
    "    def __init__(self,data):\n",
    "        self.data=data\n",
    "        self.left=None\n",
    "        self.right=None\n",
    "class Binarytree:\n",
    "    def __init__(self):\n",
    "        self.root=None\n",
    "#         self.temp=temp\n",
    "#         self.key=key\n",
    "        \n",
    "       \n",
    "        \n",
    "    def inorder(self,temp):\n",
    "        if temp is None:\n",
    "            return \n",
    "        self.inorder(temp.left)\n",
    "        print(temp.data,end=\"\")\n",
    "        self.inorder(temp.right)\n",
    "        \n",
    "    def insert(self,temp,key):\n",
    "        q=[]#declare an empty queue\n",
    "        q.append(temp)\n",
    "        while(len(q)):\n",
    "            temp=q[0]\n",
    "            q.pop(0)\n",
    "            if (not temp.left):\n",
    "                temp.left=newNode(key)\n",
    "                break\n",
    "            else:\n",
    "                q.append(temp.left)\n",
    "            if (not temp.right):\n",
    "                temp.right=newNode(key)\n",
    "                break\n",
    "            else:\n",
    "                q.append(temp.right)\n",
    "                \n",
    "        \n",
    "if __name__==\"__main__\":\n",
    "    bt=Binarytree()\n",
    "    bt.root=newNode(10)\n",
    "    bt.root.left=newNode(11)\n",
    "    bt.root.left.left=newNode(7)\n",
    "    bt.root.right=newNode(9)\n",
    "    bt.root.right.left=newNode(15)\n",
    "    bt.root.right.right=newNode(8)\n",
    "    print(\"inorder traversal before insertion :\",end=\"\")\n",
    "    print(bt.root.data)\n",
    "    print(type(bt))\n",
    "    bt.inorder(bt.root)\n",
    "    key=12\n",
    "    bt.insert(bt.root,key)\n",
    "    print()\n",
    "    print(\"inorder traversal after insertion:\",end=\"\")\n",
    "    bt.inorder(bt.root)\n",
    "    "
   ]
  },
  {
   "cell_type": "code",
   "execution_count": null,
   "metadata": {},
   "outputs": [],
   "source": []
  },
  {
   "cell_type": "code",
   "execution_count": null,
   "metadata": {},
   "outputs": [],
   "source": []
  }
 ],
 "metadata": {
  "kernelspec": {
   "display_name": "Python 3",
   "language": "python",
   "name": "python3"
  },
  "language_info": {
   "codemirror_mode": {
    "name": "ipython",
    "version": 3
   },
   "file_extension": ".py",
   "mimetype": "text/x-python",
   "name": "python",
   "nbconvert_exporter": "python",
   "pygments_lexer": "ipython3",
   "version": "3.7.3"
  }
 },
 "nbformat": 4,
 "nbformat_minor": 2
}
